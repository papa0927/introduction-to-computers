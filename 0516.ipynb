{
  "cells": [
    {
      "cell_type": "markdown",
      "metadata": {
        "id": "view-in-github",
        "colab_type": "text"
      },
      "source": [
        "<a href=\"https://colab.research.google.com/github/papa0927/introduction-to-computers/blob/main/0516.ipynb\" target=\"_parent\"><img src=\"https://colab.research.google.com/assets/colab-badge.svg\" alt=\"Open In Colab\"/></a>"
      ]
    },
    {
      "cell_type": "code",
      "execution_count": null,
      "metadata": {
        "id": "t5rfVJFf_HYD"
      },
      "outputs": [],
      "source": [
        "i=range(5)"
      ]
    },
    {
      "cell_type": "code",
      "execution_count": null,
      "metadata": {
        "colab": {
          "base_uri": "https://localhost:8080/"
        },
        "id": "JfbDnlwI_MQX",
        "outputId": "5ce0491b-c0c2-4755-b4e2-1baa3708a530"
      },
      "outputs": [
        {
          "name": "stdout",
          "output_type": "stream",
          "text": [
            "[0, 1, 2, 3, 4]\n"
          ]
        }
      ],
      "source": [
        "print(list(i))"
      ]
    },
    {
      "cell_type": "code",
      "execution_count": null,
      "metadata": {
        "colab": {
          "base_uri": "https://localhost:8080/"
        },
        "id": "VHjd-VHZ_bJf",
        "outputId": "ee478a3b-2a75-4c72-cb5e-67df1cfbe861"
      },
      "outputs": [
        {
          "name": "stdout",
          "output_type": "stream",
          "text": [
            "[-2, -1, 0, 1, 2, 3]\n"
          ]
        }
      ],
      "source": [
        "a=range(-2,4)\n",
        "print (list(a))"
      ]
    },
    {
      "cell_type": "code",
      "execution_count": null,
      "metadata": {
        "colab": {
          "base_uri": "https://localhost:8080/"
        },
        "id": "558h6SYJ_dCq",
        "outputId": "755c6d7c-83b1-477d-dcca-cbfeca66cf01"
      },
      "outputs": [
        {
          "name": "stdout",
          "output_type": "stream",
          "text": [
            "[3, 4, 5, 6, 7]\n"
          ]
        }
      ],
      "source": [
        "c=range (3,8,1)\n",
        "print (list(c))"
      ]
    },
    {
      "cell_type": "code",
      "execution_count": null,
      "metadata": {
        "colab": {
          "base_uri": "https://localhost:8080/"
        },
        "id": "Fz_3Ud2Z_s4v",
        "outputId": "587c8fa1-7d02-41a0-9cfd-e954f7e823e8"
      },
      "outputs": [
        {
          "name": "stdout",
          "output_type": "stream",
          "text": [
            "[3, 5, 7]\n"
          ]
        }
      ],
      "source": [
        "d=range (3, 8, 2)\n",
        "print (list (d))"
      ]
    },
    {
      "cell_type": "code",
      "execution_count": null,
      "metadata": {
        "colab": {
          "base_uri": "https://localhost:8080/"
        },
        "id": "1x7qaXZw_y2B",
        "outputId": "708e095b-1c79-4c40-dcf1-3a58d5015388"
      },
      "outputs": [
        {
          "output_type": "stream",
          "name": "stdout",
          "text": [
            "[8, 7, 6, 5, 4]\n"
          ]
        }
      ],
      "source": [
        "e=range(8,3,-1)\n",
        "print (list (e))"
      ]
    },
    {
      "cell_type": "code",
      "source": [
        "f=range(0,9,1)\n",
        "print (list(f))"
      ],
      "metadata": {
        "colab": {
          "base_uri": "https://localhost:8080/"
        },
        "id": "yTFN-1iOC0Oa",
        "outputId": "81c07adf-41ba-4913-a618-f3f0148874e6"
      },
      "execution_count": null,
      "outputs": [
        {
          "output_type": "stream",
          "name": "stdout",
          "text": [
            "[0, 1, 2, 3, 4, 5, 6, 7, 8]\n"
          ]
        }
      ]
    },
    {
      "cell_type": "code",
      "source": [
        "g=range(1,10,1)\n",
        "print (list (g))"
      ],
      "metadata": {
        "colab": {
          "base_uri": "https://localhost:8080/"
        },
        "id": "PzMEUhEZC-Id",
        "outputId": "8e75a06d-1204-4f16-d1df-b9db2ac59e4c"
      },
      "execution_count": null,
      "outputs": [
        {
          "output_type": "stream",
          "name": "stdout",
          "text": [
            "[1, 2, 3, 4, 5, 6, 7, 8, 9]\n"
          ]
        }
      ]
    },
    {
      "cell_type": "code",
      "source": [
        "h=range(1,10,2)\n",
        "print (list (h))"
      ],
      "metadata": {
        "colab": {
          "base_uri": "https://localhost:8080/"
        },
        "id": "ndRDP2P1DHID",
        "outputId": "f68e52e4-e252-4504-8567-fb704171a717"
      },
      "execution_count": null,
      "outputs": [
        {
          "output_type": "stream",
          "name": "stdout",
          "text": [
            "[1, 3, 5, 7, 9]\n"
          ]
        }
      ]
    },
    {
      "cell_type": "code",
      "source": [
        "i=range(10,1,-2)\n",
        "print(list(i))"
      ],
      "metadata": {
        "colab": {
          "base_uri": "https://localhost:8080/"
        },
        "id": "Zd83BbF4DSTf",
        "outputId": "dbf3bace-3727-46af-a5c5-31256e793976"
      },
      "execution_count": null,
      "outputs": [
        {
          "output_type": "stream",
          "name": "stdout",
          "text": [
            "[10, 8, 6, 4, 2]\n"
          ]
        }
      ]
    },
    {
      "cell_type": "code",
      "source": [
        "for n in  range (3):\n",
        "    print (n)"
      ],
      "metadata": {
        "colab": {
          "base_uri": "https://localhost:8080/"
        },
        "id": "z3CEr9k6DdRb",
        "outputId": "1d55272d-6ea6-4cb9-8eaf-ca680163fd47"
      },
      "execution_count": null,
      "outputs": [
        {
          "output_type": "stream",
          "name": "stdout",
          "text": [
            "0\n",
            "1\n",
            "2\n"
          ]
        }
      ]
    },
    {
      "cell_type": "code",
      "source": [
        "for n in range(10):\n",
        "    print(n,end=\",\")"
      ],
      "metadata": {
        "colab": {
          "base_uri": "https://localhost:8080/"
        },
        "id": "7pObRFjaDn5d",
        "outputId": "d14277b9-6a77-49ba-83ba-c49cdec6e2cd"
      },
      "execution_count": null,
      "outputs": [
        {
          "output_type": "stream",
          "name": "stdout",
          "text": [
            "0,1,2,3,4,5,6,7,8,9,"
          ]
        }
      ]
    },
    {
      "cell_type": "code",
      "source": [
        "for n in range(0,10,2):\n",
        "    print(n, end=\",\")"
      ],
      "metadata": {
        "colab": {
          "base_uri": "https://localhost:8080/"
        },
        "id": "2FKRCoIKEEkX",
        "outputId": "f21ccaf7-d0c4-421d-bab2-86890ba08637"
      },
      "execution_count": null,
      "outputs": [
        {
          "output_type": "stream",
          "name": "stdout",
          "text": [
            "0,2,4,6,8,"
          ]
        }
      ]
    },
    {
      "cell_type": "code",
      "source": [
        "test-int(input(\"請輸入一個正整數\"））\n",
        "for m in rande(l,test+l):\n",
        "print (m,end=\",\")"
      ],
      "metadata": {
        "colab": {
          "base_uri": "https://localhost:8080/",
          "height": 171
        },
        "id": "v9KhLns9Es0M",
        "outputId": "31d229ec-a841-4fb2-da8d-1f36b9207bd4"
      },
      "execution_count": null,
      "outputs": [
        {
          "output_type": "error",
          "ename": "SyntaxError",
          "evalue": "ignored",
          "traceback": [
            "\u001b[0;36m  File \u001b[0;32m\"<ipython-input-34-6cb721162e85>\"\u001b[0;36m, line \u001b[0;32m1\u001b[0m\n\u001b[0;31m    test-int(input(\"請輸入一個正整數\"））\u001b[0m\n\u001b[0m                              ^\u001b[0m\n\u001b[0;31mSyntaxError\u001b[0m\u001b[0;31m:\u001b[0m invalid character in identifier\n"
          ]
        }
      ]
    },
    {
      "cell_type": "code",
      "source": [
        "test=int (input (\"請輸入一個正整數\") )\n",
        "sum=0\n",
        "for n in range (1,test+1):\n",
        "  sum=sum+n\n",
        "print(\"1到\",test,\"的整數和為\",sum）"
      ],
      "metadata": {
        "colab": {
          "base_uri": "https://localhost:8080/",
          "height": 171
        },
        "id": "_OvDNMxgFMSX",
        "outputId": "c0a5e4d1-8331-472a-8e16-2bc0b81778ba"
      },
      "execution_count": null,
      "outputs": [
        {
          "output_type": "error",
          "ename": "SyntaxError",
          "evalue": "ignored",
          "traceback": [
            "\u001b[0;36m  File \u001b[0;32m\"<ipython-input-40-c82692b6fda4>\"\u001b[0;36m, line \u001b[0;32m5\u001b[0m\n\u001b[0;31m    print(\"1到\",test,\"的整數和為\",sum）\u001b[0m\n\u001b[0m                               ^\u001b[0m\n\u001b[0;31mSyntaxError\u001b[0m\u001b[0;31m:\u001b[0m invalid character in identifier\n"
          ]
        }
      ]
    },
    {
      "cell_type": "code",
      "source": [
        "test1=int(input(\"請輸入一個正整數\"））\n",
        "sum=0\n",
        "for n in range (1,testl+1):\n",
        "cumecumn\n",
        "print(1到\"，test1，\"的整數和為\"，sum）"
      ],
      "metadata": {
        "colab": {
          "base_uri": "https://localhost:8080/",
          "height": 171
        },
        "id": "K0bnSJPPF_5O",
        "outputId": "b3b186bf-957e-44b1-a985-f471519f5fc2"
      },
      "execution_count": null,
      "outputs": [
        {
          "output_type": "error",
          "ename": "SyntaxError",
          "evalue": "ignored",
          "traceback": [
            "\u001b[0;36m  File \u001b[0;32m\"<ipython-input-43-daa7b5f128b4>\"\u001b[0;36m, line \u001b[0;32m1\u001b[0m\n\u001b[0;31m    test1=int(input(\"請輸入一個正整數\"））\u001b[0m\n\u001b[0m                               ^\u001b[0m\n\u001b[0;31mSyntaxError\u001b[0m\u001b[0;31m:\u001b[0m invalid character in identifier\n"
          ]
        }
      ]
    },
    {
      "cell_type": "code",
      "source": [
        "test2=int(input(\"請輸入一個正整數：\"））\n",
        "sum=0\n",
        "for n in range (1, test2+1):\n",
        "sum=sum+n\n",
        "print(\"1到\"，n，\"的整數和為：sum）"
      ],
      "metadata": {
        "colab": {
          "base_uri": "https://localhost:8080/",
          "height": 189
        },
        "id": "gvvzRxK_FmU8",
        "outputId": "c427be31-bef7-42d8-ad65-6ea0b58a15f9"
      },
      "execution_count": null,
      "outputs": [
        {
          "output_type": "error",
          "ename": "SyntaxError",
          "evalue": "ignored",
          "traceback": [
            "\u001b[0;36m  File \u001b[0;32m\"<ipython-input-48-0847942d6b8d>\"\u001b[0;36m, line \u001b[0;32m1\u001b[0m\n\u001b[0;31m    test2=int(input(\"請輸入一個正整數：\"））\u001b[0m\n\u001b[0m                                ^\u001b[0m\n\u001b[0;31mSyntaxError\u001b[0m\u001b[0;31m:\u001b[0m invalid character in identifier\n"
          ]
        }
      ]
    }
  ],
  "metadata": {
    "colab": {
      "name": "0516.ipynb",
      "provenance": [],
      "authorship_tag": "ABX9TyOi3RE5+Aop0uZy/6UK7I/W",
      "include_colab_link": true
    },
    "kernelspec": {
      "display_name": "Python 3",
      "name": "python3"
    },
    "language_info": {
      "name": "python"
    }
  },
  "nbformat": 4,
  "nbformat_minor": 0
}
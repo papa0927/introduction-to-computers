{
  "nbformat": 4,
  "nbformat_minor": 0,
  "metadata": {
    "colab": {
      "name": "0509.ipynb",
      "provenance": [],
      "collapsed_sections": [],
      "authorship_tag": "ABX9TyPvmgF9GE2bV18TD+1DbYam",
      "include_colab_link": true
    },
    "kernelspec": {
      "name": "python3",
      "display_name": "Python 3"
    },
    "language_info": {
      "name": "python"
    }
  },
  "cells": [
    {
      "cell_type": "markdown",
      "metadata": {
        "id": "view-in-github",
        "colab_type": "text"
      },
      "source": [
        "<a href=\"https://colab.research.google.com/github/papa0927/introduction-to-computers/blob/main/0509.ipynb\" target=\"_parent\"><img src=\"https://colab.research.google.com/assets/colab-badge.svg\" alt=\"Open In Colab\"/></a>"
      ]
    },
    {
      "cell_type": "code",
      "execution_count": 1,
      "metadata": {
        "colab": {
          "base_uri": "https://localhost:8080/"
        },
        "id": "YhUsAMgpKhvo",
        "outputId": "0e9c7b5d-d398-4dc9-cb51-3bd243894aca"
      },
      "outputs": [
        {
          "output_type": "stream",
          "name": "stdout",
          "text": [
            "123\n"
          ]
        }
      ],
      "source": [
        "print (\"123\")"
      ]
    },
    {
      "cell_type": "code",
      "source": [
        "temp=f1oat(input（\"請輸入你的體溫\"））\n",
        "if temp>=37.5:\n",
        "     print(\"體溫過高！\")\n",
        "     elif temp>37and temp<37.4:\n",
        "     print(\"體溫略高.\")\n",
        "     else:\n",
        "     print(\"體溫異常 請重新測量\")"
      ],
      "metadata": {
        "colab": {
          "base_uri": "https://localhost:8080/",
          "height": 179
        },
        "id": "jUHhc787Koxq",
        "outputId": "3f14630b-7a25-45c8-f27e-c6e90527859d"
      },
      "execution_count": 3,
      "outputs": [
        {
          "output_type": "error",
          "ename": "SyntaxError",
          "evalue": "ignored",
          "traceback": [
            "\u001b[0;36m  File \u001b[0;32m\"<ipython-input-3-f82e4bb457a3>\"\u001b[0;36m, line \u001b[0;32m1\u001b[0m\n\u001b[0;31m    temp=f1oat(input（\"請輸入你的體溫\"））\u001b[0m\n\u001b[0m                    ^\u001b[0m\n\u001b[0;31mSyntaxError\u001b[0m\u001b[0;31m:\u001b[0m invalid character in identifier\n"
          ]
        }
      ]
    },
    {
      "cell_type": "code",
      "source": [
        "score = input (\"請輸入成績\")\n",
        "if (int (score) >= 90) :\n",
        "print(\"A\")\n",
        "elif(int (score) >= 80) :\n",
        "print (\"B\")\n",
        "elif (int (score) >= 70) :\n",
        "print(\"C\")\n",
        "elif (int (score) >= 60) :\n",
        "print (\"D\")\n",
        "else:\n",
        "print(\"E\")"
      ],
      "metadata": {
        "colab": {
          "base_uri": "https://localhost:8080/",
          "height": 179
        },
        "id": "miCOs7opMM04",
        "outputId": "9cdcbdaf-ebb1-4071-8417-6b1e6e9f7a2d"
      },
      "execution_count": 4,
      "outputs": [
        {
          "output_type": "error",
          "ename": "IndentationError",
          "evalue": "ignored",
          "traceback": [
            "\u001b[0;36m  File \u001b[0;32m\"<ipython-input-4-79936c124475>\"\u001b[0;36m, line \u001b[0;32m3\u001b[0m\n\u001b[0;31m    print(\"A\")\u001b[0m\n\u001b[0m        ^\u001b[0m\n\u001b[0;31mIndentationError\u001b[0m\u001b[0;31m:\u001b[0m expected an indented block\n"
          ]
        }
      ]
    },
    {
      "cell_type": "code",
      "source": [
        "money = int (input (\"請輸入購物金額\") )\n",
        "if (money>10000):\n",
        "if (money >= 100000):\n",
        "print(\"八折\", money*0.8, end=\"I\\n\")\n",
        "elif (money\n",
        "›= 50000) :\n",
        "print(\"八五折\" , money*0.85, end=\"~\\n\")\n",
        "elif (money >= 30000)\n",
        "print(\"九折\", money*0.9, end=\"I\\n\")\n",
        "。1c•\n",
        "print（\"九五折\"，money*0.9,end=\"元\\n\"）\n",
        "ellse.\n",
        "print（“沒打折\",money,end=\"元\\口\"）"
      ],
      "metadata": {
        "colab": {
          "base_uri": "https://localhost:8080/",
          "height": 179
        },
        "id": "Fu3iYPauMvwS",
        "outputId": "e2ae6382-b85c-49c4-badd-a22546e51bb8"
      },
      "execution_count": 6,
      "outputs": [
        {
          "output_type": "error",
          "ename": "IndentationError",
          "evalue": "ignored",
          "traceback": [
            "\u001b[0;36m  File \u001b[0;32m\"<ipython-input-6-f83d788b967c>\"\u001b[0;36m, line \u001b[0;32m3\u001b[0m\n\u001b[0;31m    if (money >= 100000):\u001b[0m\n\u001b[0m     ^\u001b[0m\n\u001b[0;31mIndentationError\u001b[0m\u001b[0;31m:\u001b[0m expected an indented block\n"
          ]
        }
      ]
    },
    {
      "cell_type": "code",
      "source": [
        "month = int (input (\"請輸入月份\") )\n",
        "if month\n",
        "12:\n",
        "if month >= 3 and month\n",
        "print (month,str（“月是春天\"））\n",
        "ef moth >= 6ad mont\n",
        "<=\n",
        "= 8:\n",
        "print (month, str（“月是夏天\")\n",
        "tif month >= 9 and month\n",
        "11:\n",
        "print(month,str（\"月是秋天\"））\n",
        "else:\n",
        "print(month,str（\"月是冬天\"\n",
        "g:\n",
        "print (month,str(\"月份不在範圍內\"））"
      ],
      "metadata": {
        "colab": {
          "base_uri": "https://localhost:8080/",
          "height": 179
        },
        "id": "BLSFRBdkNCou",
        "outputId": "e3e71413-b007-4ed8-d553-9ad5fdbf4159"
      },
      "execution_count": 7,
      "outputs": [
        {
          "output_type": "error",
          "ename": "SyntaxError",
          "evalue": "ignored",
          "traceback": [
            "\u001b[0;36m  File \u001b[0;32m\"<ipython-input-7-594184a04552>\"\u001b[0;36m, line \u001b[0;32m2\u001b[0m\n\u001b[0;31m    if month\u001b[0m\n\u001b[0m            ^\u001b[0m\n\u001b[0;31mSyntaxError\u001b[0m\u001b[0;31m:\u001b[0m invalid syntax\n"
          ]
        }
      ]
    },
    {
      "cell_type": "code",
      "source": [
        "revenue\n",
        "= float (input(\"請輸入購物金額\"))\n",
        "if(revenue>=2000000) :\n",
        "print (\"賦稅金額為\" ：，revenue*0.3,\n",
        "end \"元\\n\"）\n",
        "elif (revenue>1000000) :\n",
        "print (\"付稅金額為\", revenue*0.21, \"元\\n\"）\n",
        "elif (revenue>6000000) :\n",
        "print(“付稅金額為：\"，revenue*0.13, end=\"元\\n\"）\n",
        "elif(revenue>3000000):\n",
        "print（\"付稅金額為：\"，revenue*0.06, \"元\\n\"）\n",
        "else:\n",
        "print（\"付稅金額為：0元\"）"
      ],
      "metadata": {
        "colab": {
          "base_uri": "https://localhost:8080/",
          "height": 179
        },
        "id": "6XBRr4aUNcRj",
        "outputId": "be591ed5-d3f8-40ae-97a3-b87623632e84"
      },
      "execution_count": 9,
      "outputs": [
        {
          "output_type": "error",
          "ename": "SyntaxError",
          "evalue": "ignored",
          "traceback": [
            "\u001b[0;36m  File \u001b[0;32m\"<ipython-input-9-cff3a0d89e31>\"\u001b[0;36m, line \u001b[0;32m2\u001b[0m\n\u001b[0;31m    = float (input(\"請輸入購物金額\"))\u001b[0m\n\u001b[0m    ^\u001b[0m\n\u001b[0;31mSyntaxError\u001b[0m\u001b[0;31m:\u001b[0m invalid syntax\n"
          ]
        }
      ]
    }
  ]
}